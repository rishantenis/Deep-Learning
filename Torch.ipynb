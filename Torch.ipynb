{
 "cells": [
  {
   "cell_type": "code",
   "execution_count": 1,
   "metadata": {},
   "outputs": [
    {
     "name": "stderr",
     "output_type": "stream",
     "text": [
      "c:\\Users\\Tenis\\anaconda3\\envs\\Data_Sci\\lib\\site-packages\\tqdm\\auto.py:21: TqdmWarning: IProgress not found. Please update jupyter and ipywidgets. See https://ipywidgets.readthedocs.io/en/stable/user_install.html\n",
      "  from .autonotebook import tqdm as notebook_tqdm\n"
     ]
    },
    {
     "name": "stdout",
     "output_type": "stream",
     "text": [
      "Hello World\n",
      "1.12.1\n",
      "False\n"
     ]
    }
   ],
   "source": [
    "import torch     \t\t\t\t#引入torch库\n",
    "print(\"Hello World\")\t\t\t#打印字符串\"Hello World\"\n",
    "print(torch.__version__)\t\t\t#打印torch的版本号\n",
    "print(torch.cuda.is_available())\t#检测电脑上是否有可用的GPU"
   ]
  },
  {
   "cell_type": "code",
   "execution_count": 2,
   "metadata": {},
   "outputs": [
    {
     "name": "stdout",
     "output_type": "stream",
     "text": [
      "x0的阶数为：0，形状为：torch.Size([])\n",
      "x1的阶数为：1，形状为：torch.Size([1])\n",
      "x2的阶数为：1，形状为：torch.Size([2])\n",
      "x3的阶数为：2，形状为：torch.Size([2, 3])\n",
      "x4的阶数为：2，形状为：torch.Size([3, 3])\n"
     ]
    }
   ],
   "source": [
    "import torch\n",
    "x0 = torch.tensor(2)  \t\t#0阶张量，形状为torch.Size([])，亦写为()\n",
    "x1 = torch.tensor([2]) \t\t#1阶张量，形状为torch.Size([1])，亦写为(1)\n",
    "x2 = torch.tensor([2,3]) \t\t#1阶张量，形状为torch.Size([2])，亦写为(2)\n",
    "x3 = torch.tensor([[2,3,4],  \t#2阶张量，形状为torch.Size([2, 3])，亦写为(2, 3)\n",
    "               [5,6,7]])\n",
    "x4 = torch.tensor([[2,3,4],  \t#2阶张量，形状为torch.Size([3, 3])，亦写为(3, 3)\n",
    "               [5, 6, 7],\n",
    "               [8, 9, 10]])\n",
    "print('x0的阶数为：{}，形状为：{}'.format(x0.ndim, x0.size()))\n",
    "print('x1的阶数为：{}，形状为：{}'.format(x1.ndim, x1.size()))\n",
    "print('x2的阶数为：{}，形状为：{}'.format(x2.ndim, x2.size()))\n",
    "print('x3的阶数为：{}，形状为：{}'.format(x3.ndim, x3.size()))\n",
    "print('x4的阶数为：{}，形状为：{}'.format(x4.ndim, x4.size()))"
   ]
  },
  {
   "cell_type": "code",
   "execution_count": null,
   "metadata": {},
   "outputs": [],
   "source": []
  },
  {
   "cell_type": "code",
   "execution_count": null,
   "metadata": {},
   "outputs": [],
   "source": []
  },
  {
   "cell_type": "code",
   "execution_count": null,
   "metadata": {},
   "outputs": [],
   "source": []
  }
 ],
 "metadata": {
  "kernelspec": {
   "display_name": "Data_Sci",
   "language": "python",
   "name": "python3"
  },
  "language_info": {
   "codemirror_mode": {
    "name": "ipython",
    "version": 3
   },
   "file_extension": ".py",
   "mimetype": "text/x-python",
   "name": "python",
   "nbconvert_exporter": "python",
   "pygments_lexer": "ipython3",
   "version": "3.7.16"
  }
 },
 "nbformat": 4,
 "nbformat_minor": 2
}
